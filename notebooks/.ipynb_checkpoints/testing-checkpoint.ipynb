{
 "cells": [
  {
   "cell_type": "markdown",
   "metadata": {},
   "source": [
    "## Fair Scraper"
   ]
  },
  {
   "cell_type": "code",
   "execution_count": 5,
   "metadata": {},
   "outputs": [],
   "source": [
    "\"\"\"\n",
    "Scrapes information from FAIRsharing.org\n",
    "\"\"\"\n",
    "import os\n",
    "import requests\n",
    "from lxml import html\n",
    "import pandas as pd\n",
    "import json\n",
    "#from ncats_translator_dqa import config"
   ]
  },
  {
   "cell_type": "code",
   "execution_count": 11,
   "metadata": {},
   "outputs": [],
   "source": [
    "import sys\n",
    "sys.path.insert(0, '/Users/pedrohserrano/NCATS-Translator-DQA') \n",
    "import ncats_translator_dqa as dqa"
   ]
  },
  {
   "cell_type": "markdown",
   "metadata": {},
   "source": [
    "#### fair_scraper(url)\n",
    "FAIRsharing.org for some basic information.\n",
    "\n",
    "    Scrapes FAIRsharing.org for some basic information, including title, scope and data types, terminology artifacts,\n",
    "    and conditions of use.\n",
    "\n",
    "    :param url: String url to page to scrape\n",
    "    :return: FAIRPrelimStats object"
   ]
  },
  {
   "cell_type": "markdown",
   "metadata": {},
   "source": [
    "- Which url"
   ]
  },
  {
   "cell_type": "code",
   "execution_count": 46,
   "metadata": {},
   "outputs": [],
   "source": [
    "url = 'https://fairsharing.org/biodbcore-000015'"
   ]
  },
  {
   "cell_type": "code",
   "execution_count": 47,
   "metadata": {},
   "outputs": [],
   "source": [
    "# output message\n",
    "#if config.verbose:\n",
    "#    print('Scraping: ' + url)"
   ]
  },
  {
   "cell_type": "code",
   "execution_count": 48,
   "metadata": {},
   "outputs": [],
   "source": [
    "# load the page\n",
    "page = requests.get(url)"
   ]
  },
  {
   "cell_type": "code",
   "execution_count": 49,
   "metadata": {},
   "outputs": [],
   "source": [
    "# parse the HTML\n",
    "html_content = html.fromstring(page.content)"
   ]
  },
  {
   "cell_type": "markdown",
   "metadata": {},
   "source": [
    "- Get the title"
   ]
  },
  {
   "cell_type": "code",
   "execution_count": 50,
   "metadata": {},
   "outputs": [],
   "source": [
    "title = html_content.xpath('//div[@class=\"title-text\"]/h2/text()[last()]')"
   ]
  },
  {
   "cell_type": "code",
   "execution_count": 51,
   "metadata": {},
   "outputs": [],
   "source": [
    "title = title[0].strip()"
   ]
  },
  {
   "cell_type": "code",
   "execution_count": 52,
   "metadata": {},
   "outputs": [
    {
     "data": {
      "text/plain": [
       "['ChEMBL: a large-scale bioactivity database for drug discovery']"
      ]
     },
     "execution_count": 52,
     "metadata": {},
     "output_type": "execute_result"
    }
   ],
   "source": [
    "title = [title]\n",
    "title"
   ]
  },
  {
   "cell_type": "markdown",
   "metadata": {},
   "source": [
    "- Get the tags"
   ]
  },
  {
   "cell_type": "code",
   "execution_count": 53,
   "metadata": {},
   "outputs": [],
   "source": [
    "# Find the listed items under Scope and data types\n",
    "# <li class=\"bio-tag domain\">\n",
    "#     <span class=\"bio-icon-tag\"style=\"padding-right: 5px\"></span>\n",
    "#     Approved drug\n",
    "# </li>\n",
    "sad = html_content.xpath('//li[@class=\"bio-tag domain\"]/text()[last()]')"
   ]
  },
  {
   "cell_type": "code",
   "execution_count": 54,
   "metadata": {},
   "outputs": [
    {
     "data": {
      "text/plain": [
       "['Approved drug', 'Biomedical Science', 'Peptide', 'Small molecule']"
      ]
     },
     "execution_count": 54,
     "metadata": {},
     "output_type": "execute_result"
    }
   ],
   "source": [
    "sad = [x.strip() for x in sad]\n",
    "sad"
   ]
  },
  {
   "cell_type": "markdown",
   "metadata": {},
   "source": [
    "- Get the terminology artifacts"
   ]
  },
  {
   "cell_type": "code",
   "execution_count": 55,
   "metadata": {},
   "outputs": [],
   "source": [
    "# Find the list items under Terminology Artifacts\n",
    "# <p><span class=\"heavier\">Terminology Artifacts</span></p>\n",
    "# <ul class=\"record-list-link\">\n",
    "# \t<li class=\"small\"><a href=\"/bsg-s000039\" target=\"_blank\">Chemical Entities of Biological Interest</a></li>\n",
    "# \t<li class=\"small\"><a href=\"/bsg-s000136\" target=\"_blank\">PSI Molecular Interaction Controlled Vocabulary</a></li>\n",
    "# </ul>\n",
    "ta = html_content.xpath('//span[text()=\"Terminology Artifacts\"]/../../ul/li/a/text()')\n",
    "ta = [x.strip() for x in ta]"
   ]
  },
  {
   "cell_type": "code",
   "execution_count": 56,
   "metadata": {},
   "outputs": [
    {
     "data": {
      "text/plain": [
       "['Chemical Entities of Biological Interest',\n",
       " 'PSI Molecular Interaction Controlled Vocabulary']"
      ]
     },
     "execution_count": 56,
     "metadata": {},
     "output_type": "execute_result"
    }
   ],
   "source": [
    "ta"
   ]
  },
  {
   "cell_type": "markdown",
   "metadata": {},
   "source": [
    "- Get the license"
   ]
  },
  {
   "cell_type": "code",
   "execution_count": 57,
   "metadata": {},
   "outputs": [],
   "source": [
    "# Get license\n",
    "# <div class=\"standard-unit\">\n",
    "    # <p class=\"section-title\"><span class=\"heavier\">Conditions of Use</span></p>\n",
    "lic_groups = html_content.xpath('//span[text()=\"Conditions of Use\"]/../../span[@class=\"section-header\"]')\n",
    "\n",
    "lic_info = []\n",
    "for lic_group in lic_groups:\n",
    "    applies_to = lic_group.xpath('text()') # Get the \"Applies to\" text and fix weird whitespace\n",
    "    applies_to = ' '.join(applies_to[0].split())\n",
    "    licenses = lic_group.xpath('following-sibling::ul[1]/li/span//text()')     # Get the licenses\n",
    "    licenses = [x.strip() for x in licenses]\n",
    "    lic_info.append((applies_to, licenses))     # Add the license information as a tuple"
   ]
  },
  {
   "cell_type": "code",
   "execution_count": 58,
   "metadata": {},
   "outputs": [
    {
     "data": {
      "text/plain": [
       "[('Applies to: Data use',\n",
       "  ['Creative Commons Attribution-ShareAlike 3.0 Unported (CC BY-SA 3.0)'])]"
      ]
     },
     "execution_count": 58,
     "metadata": {},
     "output_type": "execute_result"
    }
   ],
   "source": [
    "lic_info"
   ]
  },
  {
   "cell_type": "code",
   "execution_count": 59,
   "metadata": {},
   "outputs": [],
   "source": [
    "lic_strings = []\n",
    "sep = '; '"
   ]
  },
  {
   "cell_type": "code",
   "execution_count": 60,
   "metadata": {},
   "outputs": [],
   "source": [
    "for lic in lic_info:\n",
    "    lic_strings.append(lic[0] + \" = {\" + sep.join(lic[1]) + \"}\")\n",
    "    lic_string = sep.join(lic_strings)"
   ]
  },
  {
   "cell_type": "code",
   "execution_count": 61,
   "metadata": {},
   "outputs": [
    {
     "data": {
      "text/plain": [
       "['Applies to: Data use = {Creative Commons Attribution-ShareAlike 3.0 Unported (CC BY-SA 3.0)}']"
      ]
     },
     "execution_count": 61,
     "metadata": {},
     "output_type": "execute_result"
    }
   ],
   "source": [
    "licence = [lic_string]\n",
    "licence"
   ]
  },
  {
   "cell_type": "markdown",
   "metadata": {},
   "source": [
    "- FAIR Scrapper elements  \n",
    "url, title, sad, ta, lic_info"
   ]
  },
  {
   "cell_type": "markdown",
   "metadata": {},
   "source": [
    "#### fair_table(fpss, file_output)\n",
    "Writes a list of preliminary statistics from multiple FAIRsharing.org urls to a CSV file\n",
    "\n",
    "    :param fpss: List of FAIRPrelimStats\n",
    "    :param file_output: Path to output file to write to (String)\n",
    "    :return:"
   ]
  },
  {
   "cell_type": "code",
   "execution_count": 62,
   "metadata": {},
   "outputs": [
    {
     "data": {
      "text/plain": [
       "[['https://fairsharing.org/biodbcore-000015'],\n",
       " ['ChEMBL: a large-scale bioactivity database for drug discovery'],\n",
       " ['Approved drug', 'Biomedical Science', 'Peptide', 'Small molecule'],\n",
       " ['Chemical Entities of Biological Interest',\n",
       "  'PSI Molecular Interaction Controlled Vocabulary'],\n",
       " ['Applies to: Data use = {Creative Commons Attribution-ShareAlike 3.0 Unported (CC BY-SA 3.0)}']]"
      ]
     },
     "execution_count": 62,
     "metadata": {},
     "output_type": "execute_result"
    }
   ],
   "source": [
    "fpss = [[url], title, sad, ta, licence]\n",
    "fpss"
   ]
  },
  {
   "cell_type": "code",
   "execution_count": 63,
   "metadata": {},
   "outputs": [
    {
     "data": {
      "text/plain": [
       "5"
      ]
     },
     "execution_count": 63,
     "metadata": {},
     "output_type": "execute_result"
    }
   ],
   "source": [
    "num_fpss = len(fpss)\n",
    "num_fpss"
   ]
  },
  {
   "cell_type": "code",
   "execution_count": 64,
   "metadata": {},
   "outputs": [],
   "source": [
    "titles = ['url', 'title', 'scope and data types', 'terminology artifacts', 'license']"
   ]
  },
  {
   "cell_type": "code",
   "execution_count": 65,
   "metadata": {},
   "outputs": [],
   "source": [
    "summary = {key: value for (key, value) in zip(titles, fpss)}"
   ]
  },
  {
   "cell_type": "code",
   "execution_count": 66,
   "metadata": {},
   "outputs": [
    {
     "data": {
      "text/plain": [
       "{'license': ['Applies to: Data use = {Creative Commons Attribution-ShareAlike 3.0 Unported (CC BY-SA 3.0)}'],\n",
       " 'scope and data types': ['Approved drug',\n",
       "  'Biomedical Science',\n",
       "  'Peptide',\n",
       "  'Small molecule'],\n",
       " 'terminology artifacts': ['Chemical Entities of Biological Interest',\n",
       "  'PSI Molecular Interaction Controlled Vocabulary'],\n",
       " 'title': ['ChEMBL: a large-scale bioactivity database for drug discovery'],\n",
       " 'url': ['https://fairsharing.org/biodbcore-000015']}"
      ]
     },
     "execution_count": 66,
     "metadata": {},
     "output_type": "execute_result"
    }
   ],
   "source": [
    "summary"
   ]
  },
  {
   "cell_type": "code",
   "execution_count": 67,
   "metadata": {},
   "outputs": [],
   "source": [
    "def writeToJSONFile(path, fileName, data):\n",
    "    filePathNameWExt = './' + path + '/' + fileName + '.json'\n",
    "    with open(filePathNameWExt, 'w') as fp:\n",
    "        json.dump(data, fp)"
   ]
  },
  {
   "cell_type": "code",
   "execution_count": 66,
   "metadata": {},
   "outputs": [],
   "source": [
    "writeToJSONFile('./','metrics',summary)"
   ]
  },
  {
   "cell_type": "code",
   "execution_count": 59,
   "metadata": {},
   "outputs": [],
   "source": [
    "#df[str(titles[3])] = fpss[3]"
   ]
  },
  {
   "cell_type": "code",
   "execution_count": 69,
   "metadata": {},
   "outputs": [],
   "source": [
    "# Make sure the output directory exists\n",
    "#directory = os.path.split(file_output)[0]\n",
    "#if not os.path.exists(directory):\n",
    "#    os.mkdir(directory)\n",
    "\n",
    "# Write the results\n",
    "#df.to_csv(file_output, sep='\\t')\n",
    "\n",
    "#if config.verbose:\n",
    "#    print('Tabulated results: ' + file_output)"
   ]
  },
  {
   "cell_type": "markdown",
   "metadata": {},
   "source": [
    "## Prelim Stats RDF"
   ]
  },
  {
   "cell_type": "code",
   "execution_count": 4,
   "metadata": {},
   "outputs": [],
   "source": [
    "from rdflib import Graph, Literal, URIRef, Namespace, RDF\n",
    "from rdflib.namespace import DCTERMS, XSD"
   ]
  },
  {
   "cell_type": "code",
   "execution_count": 3,
   "metadata": {},
   "outputs": [],
   "source": [
    "#!conda install -c conda-forge rdflib -y\n",
    "#do it once"
   ]
  },
  {
   "cell_type": "markdown",
   "metadata": {},
   "source": [
    "Write out dataset data quality metrics in RDF using W3C data vocabulary.\n",
    "\n",
    "            :param dataset_id: ID to be used in URI for this data set (String)\n",
    "            :param fps: FAIRsharing preliminary stats (FAIRPrelimStats) [optional]\n",
    "            :param down_url: Download URL of dataset (String) [optional]\n",
    "            :param byte_size: Size of dataset in bytes [optional]\n",
    "            :return: None\n",
    "\n",
    "Converting preliminary statistics to W3C DQV"
   ]
  },
  {
   "cell_type": "code",
   "execution_count": 21,
   "metadata": {},
   "outputs": [],
   "source": [
    "# Define namespaces\n",
    "ns_local = Namespace(\"http://ncats.nih.gov/\")\n",
    "ns_dcat = Namespace(\"http://www.w3.org/ns/dcat#\")\n",
    "ns_dqv = Namespace(\"http://www.w3.org/ns/dqv#\")"
   ]
  },
  {
   "cell_type": "code",
   "execution_count": 9,
   "metadata": {},
   "outputs": [],
   "source": [
    "g = Graph()"
   ]
  },
  {
   "cell_type": "code",
   "execution_count": 10,
   "metadata": {},
   "outputs": [
    {
     "name": "stdout",
     "output_type": "stream",
     "text": [
      "/Users/pedrohserrano/NCATS-Translator-DQA/notebooks\n"
     ]
    }
   ],
   "source": [
    "!pwd"
   ]
  },
  {
   "cell_type": "code",
   "execution_count": 14,
   "metadata": {},
   "outputs": [],
   "source": [
    "# Read in the pre-defined turtle file from resources\n",
    "#file_predefined = os.path.join(config.resource_path, \"dqv_definitions.ttl\")\n",
    "file_predefined = os.path.join('/Users/pedrohserrano/NCATS-Translator-DQA/notebooks', \"dqv_definitions.ttl\")"
   ]
  },
  {
   "cell_type": "code",
   "execution_count": 22,
   "metadata": {},
   "outputs": [
    {
     "data": {
      "text/plain": [
       "'/Users/pedrohserrano/NCATS-Translator-DQA/notebooks/dqv_definitions.ttl'"
      ]
     },
     "execution_count": 22,
     "metadata": {},
     "output_type": "execute_result"
    }
   ],
   "source": [
    "file_predefined"
   ]
  },
  {
   "cell_type": "code",
   "execution_count": 23,
   "metadata": {},
   "outputs": [],
   "source": [
    "!touch  dqv_definitions.ttl"
   ]
  },
  {
   "cell_type": "code",
   "execution_count": 24,
   "metadata": {},
   "outputs": [
    {
     "name": "stdout",
     "output_type": "stream",
     "text": [
      "total 64\n",
      "drwxr-xr-x  6 pedrohserrano  staff    192 Feb  8 12:23 \u001b[34m.\u001b[m\u001b[m\n",
      "drwxr-xr-x  8 pedrohserrano  staff    256 Feb  7 11:21 \u001b[34m..\u001b[m\u001b[m\n",
      "drwxr-xr-x  4 pedrohserrano  staff    128 Feb  7 17:27 \u001b[34m.ipynb_checkpoints\u001b[m\u001b[m\n",
      "-rw-r--r--  1 pedrohserrano  staff      0 Feb  8 12:23 dqv_definitions.ttl\n",
      "-rw-r--r--  1 pedrohserrano  staff    454 Feb  7 17:27 metrics.json\n",
      "-rw-r--r--  1 pedrohserrano  staff  25160 Feb  8 12:22 testing.ipynb\n"
     ]
    }
   ],
   "source": [
    "!ls -la"
   ]
  },
  {
   "cell_type": "code",
   "execution_count": 26,
   "metadata": {},
   "outputs": [
    {
     "data": {
      "text/plain": [
       "<Graph identifier=N434ca763648e4704abe7d6f72d4bf550 (<class 'rdflib.graph.Graph'>)>"
      ]
     },
     "execution_count": 26,
     "metadata": {},
     "output_type": "execute_result"
    }
   ],
   "source": [
    "g.parse(file_predefined, format=\"ttl\")"
   ]
  },
  {
   "cell_type": "code",
   "execution_count": 31,
   "metadata": {},
   "outputs": [],
   "source": [
    "# Create new resources for the data set and distribution\n",
    "dataset_id = 'fairsharing.org/biodbcore-000015'\n",
    "dataset = ns_local[dataset_id]\n",
    "distribution = ns_local[dataset_id + 'Distribution']"
   ]
  },
  {
   "cell_type": "code",
   "execution_count": 34,
   "metadata": {},
   "outputs": [
    {
     "data": {
      "text/plain": [
       "rdflib.term.URIRef('http://ncats.nih.gov/fairsharing.org/biodbcore-000015Distribution')"
      ]
     },
     "execution_count": 34,
     "metadata": {},
     "output_type": "execute_result"
    }
   ],
   "source": [
    "distribution"
   ]
  },
  {
   "cell_type": "code",
   "execution_count": 35,
   "metadata": {},
   "outputs": [],
   "source": [
    "# Add information about the data set\n",
    "g.add((dataset, RDF.type, ns_dcat.Dataset))\n",
    "g.add((dataset, ns_dcat.distribution, distribution))"
   ]
  },
  {
   "cell_type": "code",
   "execution_count": 39,
   "metadata": {},
   "outputs": [],
   "source": [
    "# Add information about the distribution\n",
    "g.add((distribution, RDF.type, ns_dcat.Distribution))\n",
    "g.add((distribution, ns_dcat.mediaType, Literal(\"application/rdf\")))"
   ]
  },
  {
   "cell_type": "code",
   "execution_count": 42,
   "metadata": {},
   "outputs": [],
   "source": [
    "# Set the download URL\n",
    "url = 'https://fairsharing.org/biodbcore-000015' #URL to the data set download\n",
    "#self.add_download_url(down_url)\n",
    "#Adds dcat:downloadURL to distribution\n",
    "#        :param url: URL to the data set download (String)\n",
    "if len(url) > 0:\n",
    "    g.add((distribution, ns_dcat.downloadURL, URIRef(url)))"
   ]
  },
  {
   "cell_type": "code",
   "execution_count": 43,
   "metadata": {},
   "outputs": [],
   "source": [
    "# Set the byte size\n",
    "byte_size = -1\n",
    "#Adds dcat:byteSize to distribution\n",
    "#:param byte_size: Size of the data set in bytes (Float)\n",
    "if byte_size >= 0:\n",
    "    g.add((distribution, ns_dcat.byteSize, Literal(str(byte_size), datatype=XSD.decimal)))"
   ]
  },
  {
   "cell_type": "code",
   "execution_count": 44,
   "metadata": {},
   "outputs": [],
   "source": [
    "# Measurement count, counter\n",
    "n_measurements = 0"
   ]
  },
  {
   "cell_type": "code",
   "execution_count": null,
   "metadata": {},
   "outputs": [],
   "source": [
    "# Add licensing information\n",
    "fps = fpss\n",
    "#Adds preliminary statistics scraped from FAIRsharing.org to the graph\n",
    "#:param fps: FAIRPrelimStats object\n",
    "if fps is not None:\n",
    "    add_fair_prelim_stats(fps)\n",
    "    \n",
    "         # Add title\n",
    "        if len(fps.title) > 0:\n",
    "            self.add_title(fps.title)\n",
    "\n",
    "        # Add license\n",
    "        if len(fps.license) > 0:\n",
    "            # Convert the license data structure into a string\n",
    "            lic_string = fps.get_license_string()\n",
    "            self.add_licensing_metric(lic_string)\n",
    "\n",
    "        # Add information on scopes and data types\n",
    "        self.add_scopes_and_data_types(fps.scope_and_data_types)\n",
    "\n",
    "        # Add information on terminology artifacts\n",
    "        self.add_terminology_artifacts(fps.terminology_artifacts)"
   ]
  },
  {
   "cell_type": "code",
   "execution_count": 45,
   "metadata": {},
   "outputs": [
    {
     "ename": "NameError",
     "evalue": "name 'fps' is not defined",
     "output_type": "error",
     "traceback": [
      "\u001b[0;31m---------------------------------------------------------------------------\u001b[0m",
      "\u001b[0;31mNameError\u001b[0m                                 Traceback (most recent call last)",
      "\u001b[0;32m<ipython-input-45-b94655f4e667>\u001b[0m in \u001b[0;36m<module>\u001b[0;34m()\u001b[0m\n\u001b[0;32m----> 1\u001b[0;31m \u001b[0mfps\u001b[0m\u001b[0;34m\u001b[0m\u001b[0m\n\u001b[0m",
      "\u001b[0;31mNameError\u001b[0m: name 'fps' is not defined"
     ]
    }
   ],
   "source": [
    "fps"
   ]
  },
  {
   "cell_type": "code",
   "execution_count": 40,
   "metadata": {},
   "outputs": [
    {
     "name": "stdout",
     "output_type": "stream",
     "text": [
      "(rdflib.term.URIRef('http://ncats.nih.gov/fairsharing.org/biodbcore-000015'), rdflib.term.URIRef('http://www.w3.org/1999/02/22-rdf-syntax-ns#type'), rdflib.term.URIRef('http://www.w3.org/ns/dcat#Dataset'))\n",
      "(rdflib.term.URIRef('http://ncats.nih.gov/fairsharing.org/biodbcore-000015Distribution'), rdflib.term.URIRef('http://www.w3.org/1999/02/22-rdf-syntax-ns#type'), rdflib.term.URIRef('http://www.w3.org/ns/dcat#Distribution'))\n",
      "(rdflib.term.URIRef('http://ncats.nih.gov/fairsharing.org/biodbcore-000015'), rdflib.term.URIRef('http://www.w3.org/ns/dcat#distribution'), rdflib.term.URIRef('http://ncats.nih.gov/fairsharing.org/biodbcore-000015Distribution'))\n",
      "(rdflib.term.URIRef('http://ncats.nih.gov/fairsharing.org/biodbcore-000015Distribution'), rdflib.term.URIRef('http://www.w3.org/ns/dcat#mediaType'), rdflib.term.Literal('application/rdf'))\n"
     ]
    }
   ],
   "source": [
    "for i in g:\n",
    "    print(i)"
   ]
  },
  {
   "cell_type": "code",
   "execution_count": null,
   "metadata": {},
   "outputs": [],
   "source": [
    "import sys\n",
    "import os\n",
    "from rdflib import Graph, Literal, URIRef, Namespace, RDF\n",
    "from rdflib.namespace import DCTERMS, XSD\n",
    "from ncats_translator_dqa import config\n",
    "\n",
    "\n",
    "class  :\n",
    "    def __init__(self, dataset_id, fps=None, down_url='', byte_size=-1):\n",
    "        \"\"\"Write out dataset data quality metrics in RDF using W3C data vocabulary.\n",
    "\n",
    "            :param dataset_id: ID to be used in URI for this data set (String)\n",
    "            :param fps: FAIRsharing preliminary stats (FAIRPrelimStats) [optional]\n",
    "            :param down_url: Download URL of dataset (String) [optional]\n",
    "            :param byte_size: Size of dataset in bytes [optional]\n",
    "            :return: None\n",
    "            \"\"\"\n",
    "        # Output message\n",
    "        if config.verbose:\n",
    "            print('Converting preliminary statistics to W3C DQV')\n",
    "\n",
    "        self.dataset_id = dataset_id\n",
    "\n",
    "        # Define namespaces\n",
    "        self.__ns_local = Namespace(\"http://ncats.nih.gov/\")\n",
    "        self.__ns_dcat = Namespace(\"http://www.w3.org/ns/dcat#\")\n",
    "        self.__ns_dqv = Namespace(\"http://www.w3.org/ns/dqv#\")\n",
    "\n",
    "        # Create a new graph\n",
    "        self.g = Graph()\n",
    "\n",
    "        # Read in the pre-defined turtle file from resources\n",
    "        file_predefined = os.path.join(config.resource_path, \"dqv_definitions.ttl\")\n",
    "        self.g.parse(file_predefined, format=\"ttl\")\n",
    "\n",
    "        # Create new resources for the data set and distribution\n",
    "        self.__dataset = self.__ns_local[self.dataset_id]\n",
    "        self.__distribution = self.__ns_local[self.dataset_id + 'Distribution']\n",
    "\n",
    "        # Add information about the data set\n",
    "        self.g.add((self.__dataset, RDF.type, self.__ns_dcat.Dataset))\n",
    "        self.g.add((self.__dataset, self.__ns_dcat.distribution, self.__distribution))\n",
    "\n",
    "        # Add information about the distribution\n",
    "        self.g.add((self.__distribution, RDF.type, self.__ns_dcat.Distribution))\n",
    "        self.g.add((self.__distribution, self.__ns_dcat.mediaType, Literal(\"application/rdf\")))\n",
    "\n",
    "        # Set the download URL\n",
    "        self.add_download_url(down_url)\n",
    "\n",
    "        # Set the byte size\n",
    "        self.add_byte_size(byte_size)\n",
    "\n",
    "        # Measurement count\n",
    "        self.__n_measurements = 0\n",
    "\n",
    "        # Add licensing information\n",
    "        if fps is not None:\n",
    "            self.add_fair_prelim_stats(fps)\n",
    "\n",
    "    def add_title(self, title):\n",
    "        \"\"\"Adds dcterms:title to dataset and distribution nodes\n",
    "\n",
    "        :param title: Title (String)\n",
    "        \"\"\"\n",
    "        self.g.add((self.__dataset, DCTERMS.title, Literal(title, lang=\"en\")))\n",
    "        self.g.add((self.__distribution, DCTERMS.title, Literal(title)))\n",
    "\n",
    "    def add_download_url(self, url):\n",
    "        \"\"\"Adds dcat:downloadURL to distribution\n",
    "\n",
    "        :param url: URL to the data set download (String)\n",
    "        \"\"\"\n",
    "        if len(url) > 0:\n",
    "            self.g.add((self.__distribution, self.__ns_dcat.downloadURL, URIRef(url)))\n",
    "\n",
    "    def add_byte_size(self, byte_size):\n",
    "        \"\"\"Adds dcat:byteSize to distribution\n",
    "\n",
    "        :param byte_size: Size of the data set in bytes (Float)\n",
    "        \"\"\"\n",
    "        if byte_size >= 0:\n",
    "            self.g.add((self.__distribution, self.__ns_dcat.byteSize, Literal(str(byte_size), datatype=XSD.decimal)))\n",
    "\n",
    "    def __add_measurement(self, measurement_label=''):\n",
    "        \"\"\"Creates and adds a new measurement to the graph\n",
    "\n",
    "        :param measurement_label: A unique label for the measurement. Leave empty for auto naming.\n",
    "        :return: The new measurement node\n",
    "        \"\"\"\n",
    "        if len(measurement_label) == 0:\n",
    "            # Create a new measurement label\n",
    "            self.__n_measurements += 1\n",
    "            measurement_label = 'measurement' + '%04d' % self.__n_measurements\n",
    "\n",
    "        # Create a new measurement node and add it to the graph\n",
    "        measurement = self.__ns_local[measurement_label]\n",
    "        self.g.add((measurement, RDF.type, self.__ns_dqv.QualityMeasurement))\n",
    "        self.g.add((measurement, self.__ns_dqv.computedOn, self.__distribution))\n",
    "        self.g.add((self.__distribution, self.__ns_dqv.hasQualityMeasurement, measurement))\n",
    "\n",
    "        return measurement\n",
    "\n",
    "    def add_licensing_metric(self, license_string):\n",
    "        \"\"\"Adds a licensingMetric measurement\n",
    "\n",
    "        :param license_string: String representing the license\n",
    "        \"\"\"\n",
    "        if len(license_string) > 0:\n",
    "            measurement = self.__add_measurement()\n",
    "            self.g.add((measurement, self.__ns_dqv.isMeasurementOf, self.__ns_local.licensingMetric))\n",
    "            self.g.add((measurement, self.__ns_dqv.value, Literal(license_string, datatype=XSD.string)))\n",
    "\n",
    "    def add_scopes_and_data_types(self, sads):\n",
    "        \"\"\"Adds a list of scopes and data types to the graph as scopeAndDatatypesMetric\n",
    "\n",
    "        :param sads: List of strings representing the scopes and data types\n",
    "        \"\"\"\n",
    "        if sads is None:\n",
    "            return\n",
    "\n",
    "        for sad in sads:\n",
    "            measurement = self.__add_measurement()\n",
    "            self.g.add((measurement, self.__ns_dqv.isMeasurementOf, self.__ns_local.scopeAndDatatypesMetric))\n",
    "            self.g.add((measurement, self.__ns_dqv.value, Literal(sad, datatype=XSD.string)))\n",
    "\n",
    "    def add_terminology_artifacts(self, tas):\n",
    "        \"\"\"Adds a list of terminology artifacts to the graph as terminologyArtifactsMetric\n",
    "\n",
    "        :param tas: List of strings representing the terminology artifacts\n",
    "        :return:\n",
    "        \"\"\"\n",
    "        if tas is None:\n",
    "            return\n",
    "\n",
    "        for ta in tas:\n",
    "            measurement = self.__add_measurement()\n",
    "            self.g.add((measurement, self.__ns_dqv.isMeasurementOf, self.__ns_local.terminologyArtifactsMetric))\n",
    "            self.g.add((measurement, self.__ns_dqv.value, Literal(ta, datatype=XSD.string)))\n",
    "\n",
    "    def add_fair_prelim_stats(self, fps):\n",
    "        \"\"\"Adds preliminary statistics scraped from FAIRsharing.org to the graph\n",
    "\n",
    "        :param fps: FAIRPrelimStats object\n",
    "        :return:\n",
    "        \"\"\"\n",
    "        if fps is None:\n",
    "            return\n",
    "\n",
    "        # Add title\n",
    "        if len(fps.title) > 0:\n",
    "            self.add_title(fps.title)\n",
    "\n",
    "        # Add license\n",
    "        if len(fps.license) > 0:\n",
    "            # Convert the license data structure into a string\n",
    "            lic_string = fps.get_license_string()\n",
    "            self.add_licensing_metric(lic_string)\n",
    "\n",
    "        # Add information on scopes and data types\n",
    "        self.add_scopes_and_data_types(fps.scope_and_data_types)\n",
    "\n",
    "        # Add information on terminology artifacts\n",
    "        self.add_terminology_artifacts(fps.terminology_artifacts)\n",
    "\n",
    "    def serialize(self, file, format='ttl'):\n",
    "        \"\"\"Writes the RDF graph to file in the specified format\n",
    "\n",
    "        :param file: Path to the file to write to (String)\n",
    "        :param format: RDF format (default: 'ttl')\n",
    "        :return:\n",
    "        \"\"\"\n",
    "        try:\n",
    "            # Write out turtle file\n",
    "            self.g.serialize(destination=file, format=format)\n",
    "\n",
    "            # Output message\n",
    "            if config.verbose:\n",
    "                print('Preliminary statistics in W3C DQV written to: ' + file)\n",
    "        except IOError:\n",
    "            sys.stderr.write('Error while trying to serialize preliminary stats RDF graph to file: ' + file + '\\n')\n",
    "\n"
   ]
  },
  {
   "cell_type": "code",
   "execution_count": null,
   "metadata": {},
   "outputs": [],
   "source": []
  },
  {
   "cell_type": "code",
   "execution_count": null,
   "metadata": {},
   "outputs": [],
   "source": []
  },
  {
   "cell_type": "code",
   "execution_count": null,
   "metadata": {},
   "outputs": [],
   "source": []
  },
  {
   "cell_type": "code",
   "execution_count": null,
   "metadata": {},
   "outputs": [],
   "source": []
  },
  {
   "cell_type": "code",
   "execution_count": null,
   "metadata": {},
   "outputs": [],
   "source": []
  }
 ],
 "metadata": {
  "kernelspec": {
   "display_name": "Python 3",
   "language": "python",
   "name": "python3"
  },
  "language_info": {
   "codemirror_mode": {
    "name": "ipython",
    "version": 3
   },
   "file_extension": ".py",
   "mimetype": "text/x-python",
   "name": "python",
   "nbconvert_exporter": "python",
   "pygments_lexer": "ipython3",
   "version": "3.5.4"
  }
 },
 "nbformat": 4,
 "nbformat_minor": 2
}
