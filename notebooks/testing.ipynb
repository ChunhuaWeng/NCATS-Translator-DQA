{
 "cells": [
  {
   "cell_type": "markdown",
   "metadata": {},
   "source": [
    "## Fair Scraper"
   ]
  },
  {
   "cell_type": "code",
   "execution_count": 2,
   "metadata": {},
   "outputs": [],
   "source": [
    "\"\"\"\n",
    "Scrapes information from FAIRsharing.org\n",
    "\"\"\"\n",
    "import os\n",
    "import requests\n",
    "from lxml import html\n",
    "import pandas as pd\n",
    "import json\n",
    "#from ncats_translator_dqa import config"
   ]
  },
  {
   "cell_type": "code",
   "execution_count": 3,
   "metadata": {},
   "outputs": [],
   "source": [
    "import sys\n",
    "sys.path.insert(0, '/Users/pedrohserrano/NCATS-Translator-DQA') \n",
    "import ncats_translator_dqa as dqa"
   ]
  },
  {
   "cell_type": "markdown",
   "metadata": {},
   "source": [
    "#### fair_scraper(url)\n",
    "FAIRsharing.org for some basic information.\n",
    "\n",
    "    Scrapes FAIRsharing.org for some basic information, including title, scope and data types, terminology artifacts,\n",
    "    and conditions of use.\n",
    "\n",
    "    :param url: String url to page to scrape\n",
    "    :return: FAIRPrelimStats object"
   ]
  },
  {
   "cell_type": "markdown",
   "metadata": {},
   "source": [
    "- Which url"
   ]
  },
  {
   "cell_type": "code",
   "execution_count": 4,
   "metadata": {},
   "outputs": [],
   "source": [
    "url = 'https://fairsharing.org/biodbcore-000015'"
   ]
  },
  {
   "cell_type": "code",
   "execution_count": 5,
   "metadata": {},
   "outputs": [],
   "source": [
    "# output message\n",
    "#if config.verbose:\n",
    "#    print('Scraping: ' + url)"
   ]
  },
  {
   "cell_type": "code",
   "execution_count": 6,
   "metadata": {},
   "outputs": [],
   "source": [
    "# load the page\n",
    "page = requests.get(url)"
   ]
  },
  {
   "cell_type": "code",
   "execution_count": 7,
   "metadata": {},
   "outputs": [],
   "source": [
    "# parse the HTML\n",
    "html_content = html.fromstring(page.content)"
   ]
  },
  {
   "cell_type": "markdown",
   "metadata": {},
   "source": [
    "- Get the title"
   ]
  },
  {
   "cell_type": "code",
   "execution_count": 8,
   "metadata": {},
   "outputs": [],
   "source": [
    "title = html_content.xpath('//div[@class=\"title-text\"]/h2/text()[last()]')"
   ]
  },
  {
   "cell_type": "code",
   "execution_count": 9,
   "metadata": {},
   "outputs": [],
   "source": [
    "title = title[0].strip()"
   ]
  },
  {
   "cell_type": "code",
   "execution_count": 10,
   "metadata": {},
   "outputs": [
    {
     "data": {
      "text/plain": [
       "['ChEMBL: a large-scale bioactivity database for drug discovery']"
      ]
     },
     "execution_count": 10,
     "metadata": {},
     "output_type": "execute_result"
    }
   ],
   "source": [
    "title = [title]\n",
    "title"
   ]
  },
  {
   "cell_type": "markdown",
   "metadata": {},
   "source": [
    "- Get the tags"
   ]
  },
  {
   "cell_type": "code",
   "execution_count": 11,
   "metadata": {},
   "outputs": [],
   "source": [
    "# Find the listed items under Scope and data types\n",
    "# <li class=\"bio-tag domain\">\n",
    "#     <span class=\"bio-icon-tag\"style=\"padding-right: 5px\"></span>\n",
    "#     Approved drug\n",
    "# </li>\n",
    "sad = html_content.xpath('//li[@class=\"bio-tag domain\"]/text()[last()]')"
   ]
  },
  {
   "cell_type": "code",
   "execution_count": 12,
   "metadata": {},
   "outputs": [
    {
     "data": {
      "text/plain": [
       "['Approved drug', 'Biomedical Science', 'Peptide', 'Small molecule']"
      ]
     },
     "execution_count": 12,
     "metadata": {},
     "output_type": "execute_result"
    }
   ],
   "source": [
    "sad = [x.strip() for x in sad]\n",
    "sad"
   ]
  },
  {
   "cell_type": "markdown",
   "metadata": {},
   "source": [
    "- Get the terminology artifacts"
   ]
  },
  {
   "cell_type": "code",
   "execution_count": 13,
   "metadata": {},
   "outputs": [],
   "source": [
    "# Find the list items under Terminology Artifacts\n",
    "# <p><span class=\"heavier\">Terminology Artifacts</span></p>\n",
    "# <ul class=\"record-list-link\">\n",
    "# \t<li class=\"small\"><a href=\"/bsg-s000039\" target=\"_blank\">Chemical Entities of Biological Interest</a></li>\n",
    "# \t<li class=\"small\"><a href=\"/bsg-s000136\" target=\"_blank\">PSI Molecular Interaction Controlled Vocabulary</a></li>\n",
    "# </ul>\n",
    "ta = html_content.xpath('//span[text()=\"Terminology Artifacts\"]/../../ul/li/a/text()')\n",
    "ta = [x.strip() for x in ta]"
   ]
  },
  {
   "cell_type": "code",
   "execution_count": 14,
   "metadata": {},
   "outputs": [
    {
     "data": {
      "text/plain": [
       "['Chemical Entities of Biological Interest',\n",
       " 'PSI Molecular Interaction Controlled Vocabulary']"
      ]
     },
     "execution_count": 14,
     "metadata": {},
     "output_type": "execute_result"
    }
   ],
   "source": [
    "ta"
   ]
  },
  {
   "cell_type": "markdown",
   "metadata": {},
   "source": [
    "- Get the license"
   ]
  },
  {
   "cell_type": "code",
   "execution_count": 15,
   "metadata": {},
   "outputs": [],
   "source": [
    "# Get license\n",
    "# <div class=\"standard-unit\">\n",
    "    # <p class=\"section-title\"><span class=\"heavier\">Conditions of Use</span></p>\n",
    "lic_groups = html_content.xpath('//span[text()=\"Conditions of Use\"]/../../span[@class=\"section-header\"]')\n",
    "\n",
    "lic_info = []\n",
    "for lic_group in lic_groups:\n",
    "    applies_to = lic_group.xpath('text()') # Get the \"Applies to\" text and fix weird whitespace\n",
    "    applies_to = ' '.join(applies_to[0].split())\n",
    "    licenses = lic_group.xpath('following-sibling::ul[1]/li/span//text()')     # Get the licenses\n",
    "    licenses = [x.strip() for x in licenses]\n",
    "    lic_info.append((applies_to, licenses))     # Add the license information as a tuple"
   ]
  },
  {
   "cell_type": "code",
   "execution_count": 16,
   "metadata": {},
   "outputs": [
    {
     "data": {
      "text/plain": [
       "[('Applies to: Data use',\n",
       "  ['Creative Commons Attribution-ShareAlike 3.0 Unported (CC BY-SA 3.0)'])]"
      ]
     },
     "execution_count": 16,
     "metadata": {},
     "output_type": "execute_result"
    }
   ],
   "source": [
    "lic_info"
   ]
  },
  {
   "cell_type": "code",
   "execution_count": 17,
   "metadata": {},
   "outputs": [],
   "source": [
    "lic_strings = []\n",
    "sep = '; '"
   ]
  },
  {
   "cell_type": "code",
   "execution_count": 18,
   "metadata": {},
   "outputs": [],
   "source": [
    "for lic in lic_info:\n",
    "    lic_strings.append(lic[0] + \" = {\" + sep.join(lic[1]) + \"}\")\n",
    "    lic_string = sep.join(lic_strings)"
   ]
  },
  {
   "cell_type": "code",
   "execution_count": 19,
   "metadata": {},
   "outputs": [
    {
     "data": {
      "text/plain": [
       "['Applies to: Data use = {Creative Commons Attribution-ShareAlike 3.0 Unported (CC BY-SA 3.0)}']"
      ]
     },
     "execution_count": 19,
     "metadata": {},
     "output_type": "execute_result"
    }
   ],
   "source": [
    "licence = [lic_string]\n",
    "licence"
   ]
  },
  {
   "cell_type": "markdown",
   "metadata": {},
   "source": [
    "- FAIR Scrapper elements  \n",
    "url, title, sad, ta, lic_info"
   ]
  },
  {
   "cell_type": "markdown",
   "metadata": {},
   "source": [
    "#### fair_table(fpss, file_output)\n",
    "Writes a list of preliminary statistics from multiple FAIRsharing.org urls to a CSV file\n",
    "\n",
    "    :param fpss: List of FAIRPrelimStats\n",
    "    :param file_output: Path to output file to write to (String)\n",
    "    :return:"
   ]
  },
  {
   "cell_type": "code",
   "execution_count": 20,
   "metadata": {},
   "outputs": [
    {
     "data": {
      "text/plain": [
       "[['https://fairsharing.org/biodbcore-000015'],\n",
       " ['ChEMBL: a large-scale bioactivity database for drug discovery'],\n",
       " ['Approved drug', 'Biomedical Science', 'Peptide', 'Small molecule'],\n",
       " ['Chemical Entities of Biological Interest',\n",
       "  'PSI Molecular Interaction Controlled Vocabulary'],\n",
       " ['Applies to: Data use = {Creative Commons Attribution-ShareAlike 3.0 Unported (CC BY-SA 3.0)}']]"
      ]
     },
     "execution_count": 20,
     "metadata": {},
     "output_type": "execute_result"
    }
   ],
   "source": [
    "fpss = [[url], title, sad, ta, licence]\n",
    "fpss"
   ]
  },
  {
   "cell_type": "code",
   "execution_count": 21,
   "metadata": {},
   "outputs": [
    {
     "data": {
      "text/plain": [
       "5"
      ]
     },
     "execution_count": 21,
     "metadata": {},
     "output_type": "execute_result"
    }
   ],
   "source": [
    "num_fpss = len(fpss)\n",
    "num_fpss"
   ]
  },
  {
   "cell_type": "code",
   "execution_count": 22,
   "metadata": {},
   "outputs": [],
   "source": [
    "titles = ['url', 'title', 'scope and data types', 'terminology artifacts', 'license']"
   ]
  },
  {
   "cell_type": "code",
   "execution_count": 23,
   "metadata": {},
   "outputs": [],
   "source": [
    "summary = {key: value for (key, value) in zip(titles, fpss)}"
   ]
  },
  {
   "cell_type": "code",
   "execution_count": 24,
   "metadata": {},
   "outputs": [
    {
     "data": {
      "text/plain": [
       "{'license': ['Applies to: Data use = {Creative Commons Attribution-ShareAlike 3.0 Unported (CC BY-SA 3.0)}'],\n",
       " 'scope and data types': ['Approved drug',\n",
       "  'Biomedical Science',\n",
       "  'Peptide',\n",
       "  'Small molecule'],\n",
       " 'terminology artifacts': ['Chemical Entities of Biological Interest',\n",
       "  'PSI Molecular Interaction Controlled Vocabulary'],\n",
       " 'title': ['ChEMBL: a large-scale bioactivity database for drug discovery'],\n",
       " 'url': ['https://fairsharing.org/biodbcore-000015']}"
      ]
     },
     "execution_count": 24,
     "metadata": {},
     "output_type": "execute_result"
    }
   ],
   "source": [
    "summary"
   ]
  },
  {
   "cell_type": "code",
   "execution_count": 96,
   "metadata": {},
   "outputs": [],
   "source": [
    "def writeToJSONFile(path, fileName, data):\n",
    "    filePathNameWExt = './' + path + '/' + fileName + '.json'\n",
    "    with open(filePathNameWExt, 'w') as fp:\n",
    "        json.dump(data, fp)"
   ]
  },
  {
   "cell_type": "code",
   "execution_count": 97,
   "metadata": {},
   "outputs": [],
   "source": [
    "writeToJSONFile('./','metrics',summary)"
   ]
  },
  {
   "cell_type": "code",
   "execution_count": 98,
   "metadata": {},
   "outputs": [],
   "source": [
    "#df[str(titles[3])] = fpss[3]"
   ]
  },
  {
   "cell_type": "code",
   "execution_count": 99,
   "metadata": {},
   "outputs": [],
   "source": [
    "# Make sure the output directory exists\n",
    "#directory = os.path.split(file_output)[0]\n",
    "#if not os.path.exists(directory):\n",
    "#    os.mkdir(directory)\n",
    "\n",
    "# Write the results\n",
    "#df.to_csv(file_output, sep='\\t')\n",
    "\n",
    "#if config.verbose:\n",
    "#    print('Tabulated results: ' + file_output)"
   ]
  },
  {
   "cell_type": "markdown",
   "metadata": {},
   "source": [
    "## FAIRSharing metrics"
   ]
  },
  {
   "cell_type": "code",
   "execution_count": 100,
   "metadata": {},
   "outputs": [],
   "source": [
    "from rdflib import Graph, Literal, URIRef, Namespace, RDF\n",
    "from rdflib.namespace import DCTERMS, XSD"
   ]
  },
  {
   "cell_type": "code",
   "execution_count": 101,
   "metadata": {},
   "outputs": [],
   "source": [
    "#!conda install -c conda-forge rdflib -y\n",
    "#do it once"
   ]
  },
  {
   "cell_type": "markdown",
   "metadata": {},
   "source": [
    "Write out dataset data quality metrics in RDF using W3C data vocabulary.\n",
    "\n",
    "            :param dataset_id: ID to be used in URI for this data set (String)\n",
    "            :param fps: FAIRsharing preliminary stats (FAIRPrelimStats) [optional]\n",
    "            :param down_url: Download URL of dataset (String) [optional]\n",
    "            :param byte_size: Size of dataset in bytes [optional]\n",
    "            :return: None\n",
    "\n",
    "Converting preliminary statistics to W3C DQV"
   ]
  },
  {
   "cell_type": "code",
   "execution_count": 102,
   "metadata": {},
   "outputs": [],
   "source": [
    "# Define namespaces\n",
    "ns_local = Namespace(\"http://ncats.nih.gov/\")\n",
    "ns_dcat = Namespace(\"http://www.w3.org/ns/dcat#\")\n",
    "ns_dqv = Namespace(\"http://www.w3.org/ns/dqv#\")"
   ]
  },
  {
   "cell_type": "code",
   "execution_count": 103,
   "metadata": {},
   "outputs": [],
   "source": [
    "g = Graph()"
   ]
  },
  {
   "cell_type": "code",
   "execution_count": 104,
   "metadata": {},
   "outputs": [
    {
     "name": "stdout",
     "output_type": "stream",
     "text": [
      "/Users/pedrohserrano/NCATS-Translator-DQA/notebooks\n"
     ]
    }
   ],
   "source": [
    "!pwd"
   ]
  },
  {
   "cell_type": "code",
   "execution_count": 105,
   "metadata": {},
   "outputs": [],
   "source": [
    "# Read in the pre-defined turtle file from resources\n",
    "#file_predefined = os.path.join(config.resource_path, \"dqv_definitions.ttl\")\n",
    "file_predefined = os.path.join('/Users/pedrohserrano/NCATS-Translator-DQA/notebooks', \"dqv_definitions.ttl\")"
   ]
  },
  {
   "cell_type": "code",
   "execution_count": 106,
   "metadata": {},
   "outputs": [
    {
     "data": {
      "text/plain": [
       "'/Users/pedrohserrano/NCATS-Translator-DQA/notebooks/dqv_definitions.ttl'"
      ]
     },
     "execution_count": 106,
     "metadata": {},
     "output_type": "execute_result"
    }
   ],
   "source": [
    "file_predefined"
   ]
  },
  {
   "cell_type": "code",
   "execution_count": 107,
   "metadata": {},
   "outputs": [],
   "source": [
    "#!touch  dqv_definitions.ttl"
   ]
  },
  {
   "cell_type": "code",
   "execution_count": 108,
   "metadata": {},
   "outputs": [
    {
     "name": "stdout",
     "output_type": "stream",
     "text": [
      "total 72\n",
      "drwxr-xr-x  6 pedrohserrano  staff    192 Feb  9 10:59 \u001b[34m.\u001b[m\u001b[m\n",
      "drwxr-xr-x  8 pedrohserrano  staff    256 Feb  7 11:21 \u001b[34m..\u001b[m\u001b[m\n",
      "drwxr-xr-x  4 pedrohserrano  staff    128 Feb  7 17:27 \u001b[34m.ipynb_checkpoints\u001b[m\u001b[m\n",
      "-rw-r--r--  1 pedrohserrano  staff      0 Feb  8 12:23 dqv_definitions.ttl\n",
      "-rw-r--r--  1 pedrohserrano  staff    454 Feb  9 10:59 metrics.json\n",
      "-rw-r--r--  1 pedrohserrano  staff  32218 Feb  9 10:59 testing.ipynb\n"
     ]
    }
   ],
   "source": [
    "!ls -la"
   ]
  },
  {
   "cell_type": "code",
   "execution_count": 109,
   "metadata": {},
   "outputs": [
    {
     "data": {
      "text/plain": [
       "<Graph identifier=N3fba8606a56e41df9e02df8615d1fe67 (<class 'rdflib.graph.Graph'>)>"
      ]
     },
     "execution_count": 109,
     "metadata": {},
     "output_type": "execute_result"
    }
   ],
   "source": [
    "g.parse(file_predefined, format=\"ttl\")"
   ]
  },
  {
   "cell_type": "code",
   "execution_count": 110,
   "metadata": {},
   "outputs": [],
   "source": [
    "# Create new resources for the data set and distribution\n",
    "#automatic \n",
    "dataset_id = 'http://bio2rdf.org#CHEMBL' #'fairsharing.org/biodbcore-000015'\n",
    "dataset = ns_local[dataset_id]\n",
    "distribution = ns_local[dataset_id + 'Distribution'] #THIS IS OK"
   ]
  },
  {
   "cell_type": "code",
   "execution_count": 111,
   "metadata": {},
   "outputs": [
    {
     "data": {
      "text/plain": [
       "rdflib.term.URIRef('http://ncats.nih.gov/http://bio2rdf.org#CHEMBL')"
      ]
     },
     "execution_count": 111,
     "metadata": {},
     "output_type": "execute_result"
    }
   ],
   "source": [
    "dataset"
   ]
  },
  {
   "cell_type": "code",
   "execution_count": 112,
   "metadata": {},
   "outputs": [
    {
     "data": {
      "text/plain": [
       "rdflib.term.URIRef('http://ncats.nih.gov/http://bio2rdf.org#CHEMBLDistribution')"
      ]
     },
     "execution_count": 112,
     "metadata": {},
     "output_type": "execute_result"
    }
   ],
   "source": [
    "distribution"
   ]
  },
  {
   "cell_type": "code",
   "execution_count": 120,
   "metadata": {},
   "outputs": [],
   "source": [
    "# Set the download URL ()\n",
    "# https://www.w3.org/TR/prov-o/#wasDerivedFrom\n",
    "dataset = 'https://fairsharing.org/biodbcore-000015' #object\n",
    "wasDerive = 'https://www.w3.org/TR/prov-o/#wasDerivedFrom' #predicate\n",
    "source = 'https://fairsharing.org/biodbcore-000015' #subject\n",
    "#self.add_download_url(down_url)\n",
    "#Adds dcat:downloadURL to distribution\n",
    "#        :param url: URL to the data set download (String)\n",
    "#if len(url) > 0:\n",
    "    #g.add((dataset, wasDerive, URIRef(source)))"
   ]
  },
  {
   "cell_type": "code",
   "execution_count": 113,
   "metadata": {},
   "outputs": [],
   "source": [
    "# Add information about the data set\n",
    "g.add((dataset, RDF.type, ns_dcat.Dataset))\n",
    "g.add((dataset, ns_dcat.distribution, distribution))"
   ]
  },
  {
   "cell_type": "code",
   "execution_count": 114,
   "metadata": {},
   "outputs": [],
   "source": [
    "# Add information about the distribution\n",
    "g.add((distribution, RDF.type, ns_dcat.Distribution))\n",
    "g.add((distribution, ns_dcat.mediaType, Literal(\"application/rdf\")))"
   ]
  },
  {
   "cell_type": "code",
   "execution_count": 1,
   "metadata": {},
   "outputs": [],
   "source": [
    "# Measurement count, counter\n",
    "n_measurements = 0"
   ]
  },
  {
   "cell_type": "markdown",
   "metadata": {},
   "source": [
    "## We have metrics\n",
    "\n",
    "- Licensing\n",
    "- Interoperability\n",
    "- Relevancy"
   ]
  },
  {
   "cell_type": "code",
   "execution_count": null,
   "metadata": {},
   "outputs": [],
   "source": [
    "Prefix dqv: <http://www.w3.org/ns/dqv#>\n",
    "Prefix hcls: <http://www.w3.org/hcls#>\n",
    "Prefix bio2rdf: <http://bio2rdf.org#>\n",
    "Prefix skos: <http://www.w3.org/2004/02/skos/core#>\n",
    "Prefix xsd: <http://www.w3.org/2001/XMLSchema#>\n",
    "Prefix prov: <https://www.w3.org/ns/prov#>\n",
    "Prefix dcat: <http://www.w3.org/ns/dcat#>\n",
    "        <http://purl.org/dc/terms"
   ]
  },
  {
   "cell_type": "code",
   "execution_count": 27,
   "metadata": {},
   "outputs": [
    {
     "data": {
      "text/plain": [
       "{'license': ['Applies to: Data use = {Creative Commons Attribution-ShareAlike 3.0 Unported (CC BY-SA 3.0)}'],\n",
       " 'scope and data types': ['Approved drug',\n",
       "  'Biomedical Science',\n",
       "  'Peptide',\n",
       "  'Small molecule'],\n",
       " 'terminology artifacts': ['Chemical Entities of Biological Interest',\n",
       "  'PSI Molecular Interaction Controlled Vocabulary'],\n",
       " 'title': ['ChEMBL: a large-scale bioactivity database for drug discovery'],\n",
       " 'url': ['https://fairsharing.org/biodbcore-000015']}"
      ]
     },
     "execution_count": 27,
     "metadata": {},
     "output_type": "execute_result"
    }
   ],
   "source": [
    "summary#['title']"
   ]
  },
  {
   "cell_type": "code",
   "execution_count": null,
   "metadata": {},
   "outputs": [],
   "source": [
    "title  = 'ChEMBL: a large-scale bioactivity database for drug discovery'"
   ]
  },
  {
   "cell_type": "code",
   "execution_count": null,
   "metadata": {},
   "outputs": [],
   "source": [
    "dataset = "
   ]
  },
  {
   "cell_type": "code",
   "execution_count": null,
   "metadata": {},
   "outputs": [],
   "source": [
    "namespace = '<http://bio2rdf.org#'"
   ]
  },
  {
   "cell_type": "code",
   "execution_count": null,
   "metadata": {},
   "outputs": [],
   "source": [
    "prefix_rdf = '<http://www.w3.org/1999/02/22-rdf-syntax-ns#>'\n",
    "#rdf type"
   ]
  },
  {
   "cell_type": "markdown",
   "metadata": {},
   "source": [
    "### Dataset\n",
    "<http://bio2rdf.org#CHEMBL>\t<http://www.w3.org/1999/02/22-rdf-syntax-ns#type>\t<http://www.w3.org/ns/dcat#Dataset> .\n",
    "chembl is type dataset\n",
    "<http://bio2rdf.org#CHEMBL>\t<http://purl.org/dc/terms/title>\t\"CHEMBL: a large-scale bioactivity...\"@en .\n",
    "chembl has title *title\n",
    "<http://bio2rdf.org#CHEMBL>\t<http://www.w3.org/ns/dcat#distribution>\t<http://bio2rdf.org#CHEMBLdatasetDistribution> .\n",
    "chembl has distribution *http://bio2rdf.org#CHEMBLDistribution\n",
    "\n",
    "### Distribution\n",
    "<http://bio2rdf.org#CHEMBLdatasetDistribution>\t<http://www.w3.org/1999/02/22-rdf-syntax-ns#type>\t<http://www.w3.org/ns/dcat#Distribution> .\n",
    "chembl distribution is type dcat:Distributio\n",
    "<http://bio2rdf.org#CHEMBLdatasetDistribution>\t<http://www.w3.org/ns/dcat#downloadURL>\t\"https://fairsharing.org/biodbcore-000015\"@en .  #register the parent\n",
    "source https://fairsharing.org/biodbcore-000015\n",
    "<http://bio2rdf.org#CHEMBLdatasetDistribution>\t<http://purl.org/dc/terms/title>\t\"CHEMBL dataset\" .\n",
    "chamble distribution has title \"CHEMBL dataset\"@en.\n",
    "<http://bio2rdf.org#CHEMBLdatasetDistribution>\t<http://www.w3.org/ns/dqv#hasQualityMeasurement>\t<http://www.w3.org/hcls#coverage> .\n",
    "\n",
    "### Mesurement N\n",
    "<http://www.w3.org/hcls#coverage>\t<http://www.w3.org/1999/02/22-rdf-syntax-ns#type>\t<http://www.w3.org/ns/dqv#QualityMeasurement> .\n",
    "<http://www.w3.org/hcls#coverage>\t<http://www.w3.org/ns/dqv#computedOn>\t<http://bio2rdf.org#CHEMBLdatasetDistribution> . # registring the parent\n",
    "<http://www.w3.org/hcls#coverage>\t<http://www.w3.org/ns/dqv#value>\t\"Approved Drug\"@en .\n",
    "<http://www.w3.org/hcls#coverage>\t<http://www.w3.org/ns/dqv#value>\t\"Biomedical Science\"@en .\n",
    "<http://www.w3.org/hcls#coverage>\t<http://www.w3.org/ns/dqv#value>\t\"Peptide\"@en .\n",
    "<http://www.w3.org/hcls#coverage>\t<http://www.w3.org/ns/dqv#value>\t\"Small Molecule\"@en .\n",
    "<http://www.w3.org/hcls#coverage>\t<http://www.w3.org/ns/dqv#isMeasurementOf>\t<http://www.w3.org/ns/dqv#R2metric> .\n",
    "\n",
    "### Coverage (Metric)\n",
    "<http://www.w3.org/ns/dqv#R2metric>\t<http://www.w3.org/1999/02/22-rdf-syntax-ns#type>\t<http://www.w3.org/ns/dqv#Metric> .\n",
    "<http://www.w3.org/ns/dqv#R2metric>\t<http://www.w3.org/2004/02/skos/core#definition>\t\"Coverage of scope and datatypes in the dataset.\"@en .\n",
    "<http://www.w3.org/ns/dqv#R2metric>\t<http://www.w3.org/ns/dqv#expectedDatatype>\t<http://www.w3.org/2001/XMLSchema#string> .\n",
    "<http://www.w3.org/ns/dqv#R2metric>\t<http://www.w3.org/ns/dqv#inDimension>\t<http://www.w3.org/ns/dqv#Relevancy> . #HERE \n",
    "This metric is in dimension relevancy\n",
    "\n",
    "\n",
    "### Dimension\n",
    "<http://www.w3.org/ns/dqv#Relevancy>\t<http://www.w3.org/1999/02/22-rdf-syntax-ns#type>\t<http://www.w3.org/ns/dqv#Dimension> .\n",
    "<http://www.w3.org/ns/dqv#Relevancy>\t<http://www.w3.org/2004/02/skos/core#prefLabel>\t\"Relevancy\" . #just like putting a nice name\n",
    "<http://www.w3.org/ns/dqv#Relevancy>\t<http://www.w3.org/2004/02/skos/core#definition>\t\"Relevancy refers to the provision of information which is in accordance with the task at hand and important to the users’ query\"@en .\n",
    "<http://www.w3.org/ns/dqv#Relevancy>\t<http://www.w3.org/ns/dqv#inCategory>\t<http://www.w3.org/ns/dqv#Contextual> . #this is linked to the next one and viceversa\n",
    "<http://www.w3.org/ns/dqv#Contextual> <http://www.w3.org/1999/02/22-rdf-syntax-ns#type>\t<http://www.w3.org/ns/dqv#Category> .\n",
    "\n"
   ]
  },
  {
   "cell_type": "code",
   "execution_count": null,
   "metadata": {},
   "outputs": [],
   "source": []
  },
  {
   "cell_type": "code",
   "execution_count": 125,
   "metadata": {},
   "outputs": [],
   "source": [
    "# Add licensing information\n",
    "#Adds preliminary statistics scraped from FAIRsharing.org to the graph\n",
    "#:param fps: FAIRPrelimStats object\n",
    "#if fps is none do:"
   ]
  },
  {
   "cell_type": "code",
   "execution_count": 124,
   "metadata": {},
   "outputs": [],
   "source": [
    "# Add title to nodes\n",
    "g.add((dataset, DCTERMS.title, Literal(title, lang=\"en\")))\n",
    "g.add((distribution, DCTERMS.title, Literal(title)))"
   ]
  },
  {
   "cell_type": "code",
   "execution_count": null,
   "metadata": {},
   "outputs": [],
   "source": [
    "# Add byte_size: Size of the data set in bytes (Float)\n",
    "g.add((distribution, ns_dcat.byteSize, Literal(str(byte_size), datatype=XSD.decimal)))"
   ]
  },
  {
   "cell_type": "code",
   "execution_count": null,
   "metadata": {},
   "outputs": [],
   "source": [
    "#Adds dcat:downloadURL to distribution\n",
    "g.add((distribution, ns_dcat.downloadURL, URIRef(url)))"
   ]
  },
  {
   "cell_type": "code",
   "execution_count": null,
   "metadata": {},
   "outputs": [],
   "source": [
    "#reates and adds a new measurement to the graph\n",
    "#:param measurement_label: A unique label for the measurement. Leave empty for auto naming.\n",
    "#:return: The new measurement node\n",
    "if len(measurement_label) == 0:\n",
    "    # Create a new measurement label\n",
    "    n_measurements += 1\n",
    "    measurement_label = 'measurement' + '%04d' % n_measurements"
   ]
  },
  {
   "cell_type": "code",
   "execution_count": null,
   "metadata": {},
   "outputs": [],
   "source": [
    "# Add license\n",
    "g.add((measurement, ns_dqv.isMeasurementOf, ns_local.licensingMetric))\n",
    "g.add((measurement, ns_dqv.value, Literal(license_string, datatype=XSD.string)))"
   ]
  },
  {
   "cell_type": "code",
   "execution_count": null,
   "metadata": {},
   "outputs": [],
   "source": [
    "# Add information on scopes and data types\n",
    "g.add((measurement, ns_dqv.isMeasurementOf, ns_local.scopeAndDatatypesMetric))\n",
    "g.add((measurement, ns_dqv.value, Literal(sad, datatype=XSD.string)))"
   ]
  },
  {
   "cell_type": "code",
   "execution_count": null,
   "metadata": {},
   "outputs": [],
   "source": [
    "# Add information on terminology artifacts\n",
    "#for ta in tas:\n",
    "g.add((measurement, ns_dqv.isMeasurementOf, ns_local.terminologyArtifactsMetric))\n",
    "g.add((measurement, ns_dqv.value, Literal(ta, datatype=XSD.string)))"
   ]
  },
  {
   "cell_type": "code",
   "execution_count": null,
   "metadata": {},
   "outputs": [],
   "source": [
    "def serialize(self, file, format='ttl'):\n",
    "    \"\"\"Writes the RDF graph to file in the specified format\n",
    "\n",
    "    :param file: Path to the file to write to (String)\n",
    "    :param format: RDF format (default: 'ttl')\n",
    "    :return:\n",
    "    \"\"\"\n",
    "    try:\n",
    "        # Write out turtle file\n",
    "        self.g.serialize(destination=file, format=format)\n",
    "\n",
    "        # Output message\n",
    "        if config.verbose:\n",
    "            print('Preliminary statistics in W3C DQV written to: ' + file)\n",
    "    except IOError:\n",
    "        sys.stderr.write('Error while trying to serialize preliminary stats RDF graph to file: ' + file + '\\n')"
   ]
  },
  {
   "cell_type": "code",
   "execution_count": 126,
   "metadata": {},
   "outputs": [
    {
     "name": "stdout",
     "output_type": "stream",
     "text": [
      "(rdflib.term.URIRef('http://ncats.nih.gov/http://bio2rdf.org#CHEMBL'), rdflib.term.URIRef('http://www.w3.org/1999/02/22-rdf-syntax-ns#type'), rdflib.term.URIRef('http://www.w3.org/ns/dcat#Dataset'))\n",
      "(rdflib.term.URIRef('http://ncats.nih.gov/http://bio2rdf.org#CHEMBL'), rdflib.term.URIRef('http://www.w3.org/ns/dcat#distribution'), rdflib.term.URIRef('http://ncats.nih.gov/http://bio2rdf.org#CHEMBLDistribution'))\n",
      "(rdflib.term.URIRef('http://ncats.nih.gov/http://bio2rdf.org#CHEMBLDistribution'), rdflib.term.URIRef('http://www.w3.org/ns/dcat#mediaType'), rdflib.term.Literal('application/rdf'))\n",
      "(rdflib.term.URIRef('http://ncats.nih.gov/http://bio2rdf.org#CHEMBLDistribution'), rdflib.term.URIRef('http://www.w3.org/1999/02/22-rdf-syntax-ns#type'), rdflib.term.URIRef('http://www.w3.org/ns/dcat#Distribution'))\n"
     ]
    }
   ],
   "source": [
    "for i in g:\n",
    "    print(i)"
   ]
  },
  {
   "cell_type": "markdown",
   "metadata": {},
   "source": [
    "## Testing"
   ]
  },
  {
   "cell_type": "code",
   "execution_count": null,
   "metadata": {},
   "outputs": [],
   "source": [
    "# FAIRsharing.org URLs to test\n",
    "urls = ['https://biosharing.org/biodbcore-000015',\n",
    "        'https://biosharing.org/biodbcore-000037',\n",
    "        'https://biosharing.org/biodbcore-000081',\n",
    "        'https://biosharing.org/biodbcore-000095',\n",
    "        'https://biosharing.org/biodbcore-000104',\n",
    "        'https://biosharing.org/biodbcore-000137',\n",
    "        'https://biosharing.org/biodbcore-000155',\n",
    "        'https://biosharing.org/biodbcore-000156',\n",
    "        'https://biosharing.org/biodbcore-000173',\n",
    "        'https://biosharing.org/biodbcore-000304',\n",
    "        'https://biosharing.org/biodbcore-000329',\n",
    "        'https://biosharing.org/biodbcore-000330',\n",
    "        'https://biosharing.org/biodbcore-000341',\n",
    "        'https://biosharing.org/biodbcore-000417',\n",
    "        'https://biosharing.org/biodbcore-000438',\n",
    "        'https://biosharing.org/biodbcore-000441',\n",
    "        'https://biosharing.org/biodbcore-000455',\n",
    "        'https://biosharing.org/biodbcore-000470',\n",
    "        'https://biosharing.org/biodbcore-000495',\n",
    "        'https://biosharing.org/biodbcore-000525',\n",
    "        'https://biosharing.org/biodbcore-000544',\n",
    "        'https://biosharing.org/biodbcore-000552',\n",
    "        'https://biosharing.org/biodbcore-000663',\n",
    "        'https://biosharing.org/biodbcore-000730',\n",
    "        'https://biosharing.org/biodbcore-000805',\n",
    "        'https://biosharing.org/biodbcore-000826',\n",
    "        'https://biosharing.org/biodbcore-000842',\n",
    "        'https://fairsharing.org/biodbcore-000618',\n",
    "        'https://fairsharing.org/biodbcore-000340']\n",
    "\n",
    "# Write the results to the configured output folder\n",
    "dir_output = config.path_output\n",
    "if not os.path.exists(dir_output):\n",
    "    os.mkdir(dir_output)\n",
    "\n",
    "# List of preliminary statistics results\n",
    "stats_list = []\n",
    "\n",
    "# Process each url\n",
    "for url in urls:\n",
    "    # Scrape the page\n",
    "    stats = fair_scraper.fair_scraper(url)\n",
    "    stats_list.append(stats)\n",
    "\n",
    "    # Output filename based on url\n",
    "    filename = url.split('/')[-1] + '_rdf.ttl'\n",
    "    output_file = os.path.join(dir_output, filename)\n",
    "\n",
    "    # Use the dataset title as the local identifier\n",
    "    dataset_id = \"\".join([c for c in stats.title if c.isalnum()]) + 'Dataset'\n",
    "\n",
    "    # Write out preliminary statistics using W3C DQV\n",
    "    stats_rdf = prelim_stats_rdf.PrelimStatsRDF(dataset_id, stats)\n",
    "    stats_rdf.serialize(output_file, format='ttl')\n",
    "\n",
    "# Run the scraper and write the results to CSV\n",
    "file_output = os.path.join(dir_output, 'FAIRsharing_table.csv')\n",
    "#fair_scraper.fair_table(stats_list, file_output)"
   ]
  },
  {
   "cell_type": "code",
   "execution_count": null,
   "metadata": {},
   "outputs": [],
   "source": []
  },
  {
   "cell_type": "code",
   "execution_count": null,
   "metadata": {},
   "outputs": [],
   "source": []
  }
 ],
 "metadata": {
  "kernelspec": {
   "display_name": "Python 3",
   "language": "python",
   "name": "python3"
  },
  "language_info": {
   "codemirror_mode": {
    "name": "ipython",
    "version": 3
   },
   "file_extension": ".py",
   "mimetype": "text/x-python",
   "name": "python",
   "nbconvert_exporter": "python",
   "pygments_lexer": "ipython3",
   "version": "3.6.3"
  }
 },
 "nbformat": 4,
 "nbformat_minor": 2
}
